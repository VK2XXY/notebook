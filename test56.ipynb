{
 "cells": [
  {
   "cell_type": "code",
   "execution_count": 11,
   "id": "f3f4432e-feee-4a58-b3e2-326d53ef5d75",
   "metadata": {
    "scrolled": true
   },
   "outputs": [
    {
     "name": "stdout",
     "output_type": "stream",
     "text": [
      "-1\n",
      "5\n",
      "4\n",
      "10\n",
      "9\n",
      "15\n",
      "14\n",
      "20\n",
      "19\n",
      "25\n",
      "24\n",
      "30\n",
      "29\n",
      "35\n",
      "34\n",
      "40\n",
      "39\n",
      "45\n",
      "44\n",
      "50\n"
     ]
    }
   ],
   "source": [
    "x=range(2,50,5)\n",
    "\n",
    "for i in x:\n",
    "   print(i-3)\n",
    "   print(i+3)\n"
   ]
  },
  {
   "cell_type": "code",
   "execution_count": null,
   "id": "bf5fc4b9-9e40-43b3-bd9d-89775cfef3db",
   "metadata": {},
   "outputs": [],
   "source": []
  }
 ],
 "metadata": {
  "kernelspec": {
   "display_name": "Python 3 (ipykernel)",
   "language": "python",
   "name": "python3"
  },
  "language_info": {
   "codemirror_mode": {
    "name": "ipython",
    "version": 3
   },
   "file_extension": ".py",
   "mimetype": "text/x-python",
   "name": "python",
   "nbconvert_exporter": "python",
   "pygments_lexer": "ipython3",
   "version": "3.12.8"
  }
 },
 "nbformat": 4,
 "nbformat_minor": 5
}
